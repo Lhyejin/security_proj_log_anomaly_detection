{
 "cells": [
  {
   "cell_type": "code",
   "execution_count": 2,
   "id": "4be39d05",
   "metadata": {
    "ExecuteTime": {
     "end_time": "2021-12-17T02:36:39.462569Z",
     "start_time": "2021-12-17T02:35:34.671439Z"
    }
   },
   "outputs": [
    {
     "name": "stderr",
     "output_type": "stream",
     "text": [
      "100%|██████████| 5820310/5820310 [01:03<00:00, 91638.02it/s] \n"
     ]
    }
   ],
   "source": [
    "from torch.utils.data import DataLoader\n",
    "from torch.utils.data import Dataset\n",
    "import torch.optim as optim\n",
    "import torch.nn as nn\n",
    "import torch\n",
    "\n",
    "from tqdm import tqdm\n",
    "\n",
    "def IP_preprcoessing(ip):\n",
    "    ip = ip.split(\".\")\n",
    "    ip = ip[0].zfill(3) + ip[1].zfill(3) + ip[2].zfill(3) + ip[3].zfill(3)\n",
    "    return [int(ip[i]) for i in range(12)] \n",
    "    \n",
    "def country_preprocessing(country):\n",
    "    return country_dict[country]\n",
    "\n",
    "\n",
    "# Data loader 작성\n",
    "# country의 경우 index값으로 변경, ip의 경우 전처리 진행('.'를 빼고 자리수를 12자리로 맞춤)\n",
    "class NetFlowData(Dataset):\n",
    "    def __init__(self, csv_dir = \"04_hashed.csv\"):\n",
    "        f = open(csv_dir)\n",
    "        self.data = f.readlines()[1:]\n",
    "        f.close()\n",
    "        self.country_dict = {}\n",
    "\n",
    "        idx = 0\n",
    "        \n",
    "        for i, d in enumerate(tqdm(self.data)):\n",
    "            d = d.rstrip().split(\",\")\n",
    "            c1, c2 = d[-1], d[-2]\n",
    "            if c1 not in self.country_dict:\n",
    "                self.country_dict[c1] = idx\n",
    "                idx += 1\n",
    "            if c2 not in self.country_dict:\n",
    "                self.country_dict[c2] = idx\n",
    "                idx += 1\n",
    "                \n",
    "            d[1] = IP_preprcoessing(d[1])\n",
    "            d[2] = IP_preprcoessing(d[2])\n",
    "            d[3] = 1 if d[3] == 6 else 0\n",
    "            \n",
    "            self.data[i] = [d[1],d[2],d[3],d[4],d[5],d[6],self.country_dict[d[7]],self.country_dict[d[8]]]\n",
    "            \n",
    "            \n",
    "    def __len__(self):\n",
    "        return len(self.data)\n",
    "\n",
    "    def __getitem__(self, idx):\n",
    "        return (torch.tensor(self.data[idx][0], dtype=torch.float), #src_ip\n",
    "                    torch.tensor(self.data[idx][1], dtype=torch.float),  # dst_ip\n",
    "                    torch.tensor([float(self.data[idx][2])]),  # proto\n",
    "                    torch.tensor([float(self.data[idx][3])]),  # src_port\n",
    "                    torch.tensor([float(self.data[idx][4])]),  # dst_port\n",
    "                    torch.tensor([float(self.data[idx][5])]),  # action\n",
    "                    torch.tensor([self.data[idx][6]], dtype=torch.float),  # src_country\n",
    "                    torch.tensor([self.data[idx][7]], dtype=torch.float))  # dst_country\n",
    "\n",
    "data = NetFlowData()"
   ]
  },
  {
   "cell_type": "code",
   "execution_count": 2,
   "id": "ea000144",
   "metadata": {
    "ExecuteTime": {
     "end_time": "2021-12-16T11:54:01.559855Z",
     "start_time": "2021-12-16T11:54:01.557254Z"
    }
   },
   "outputs": [],
   "source": [
    "# country_dict = data.country_dict"
   ]
  },
  {
   "cell_type": "code",
   "execution_count": 19,
   "id": "34903c1f",
   "metadata": {
    "ExecuteTime": {
     "end_time": "2021-12-16T15:51:45.919255Z",
     "start_time": "2021-12-16T15:08:45.090659Z"
    }
   },
   "outputs": [
    {
     "name": "stderr",
     "output_type": "stream",
     "text": [
      "\r",
      "  0%|          | 0/11368 [00:00<?, ?it/s]"
     ]
    },
    {
     "name": "stdout",
     "output_type": "stream",
     "text": [
      "Using CUDA\n",
      "cuda:1\n"
     ]
    },
    {
     "name": "stderr",
     "output_type": "stream",
     "text": [
      "  9%|▉         | 1007/11368 [00:22<03:32, 48.77it/s]"
     ]
    },
    {
     "name": "stdout",
     "output_type": "stream",
     "text": [
      "1000 : ,11.282505983352662\n"
     ]
    },
    {
     "name": "stderr",
     "output_type": "stream",
     "text": [
      " 18%|█▊        | 2006/11368 [00:42<03:08, 49.79it/s]"
     ]
    },
    {
     "name": "stdout",
     "output_type": "stream",
     "text": [
      "2000 : ,6.967187393665314\n"
     ]
    },
    {
     "name": "stderr",
     "output_type": "stream",
     "text": [
      " 26%|██▋       | 3010/11368 [01:02<02:46, 50.20it/s]"
     ]
    },
    {
     "name": "stdout",
     "output_type": "stream",
     "text": [
      "3000 : ,4.979244515895844\n"
     ]
    },
    {
     "name": "stderr",
     "output_type": "stream",
     "text": [
      " 35%|███▌      | 4006/11368 [01:22<02:25, 50.60it/s]"
     ]
    },
    {
     "name": "stdout",
     "output_type": "stream",
     "text": [
      "4000 : ,3.676015016078949\n"
     ]
    },
    {
     "name": "stderr",
     "output_type": "stream",
     "text": [
      " 44%|████▍     | 5007/11368 [01:42<02:04, 50.92it/s]"
     ]
    },
    {
     "name": "stdout",
     "output_type": "stream",
     "text": [
      "5000 : ,2.8235297396183014\n"
     ]
    },
    {
     "name": "stderr",
     "output_type": "stream",
     "text": [
      " 53%|█████▎    | 6007/11368 [02:06<01:44, 51.46it/s]"
     ]
    },
    {
     "name": "stdout",
     "output_type": "stream",
     "text": [
      "6000 : ,2.5744209797382354\n"
     ]
    },
    {
     "name": "stderr",
     "output_type": "stream",
     "text": [
      " 62%|██████▏   | 7009/11368 [02:26<01:25, 51.25it/s]"
     ]
    },
    {
     "name": "stdout",
     "output_type": "stream",
     "text": [
      "7000 : ,2.056033227443695\n"
     ]
    },
    {
     "name": "stderr",
     "output_type": "stream",
     "text": [
      " 70%|███████   | 8005/11368 [02:45<01:05, 51.30it/s]"
     ]
    },
    {
     "name": "stdout",
     "output_type": "stream",
     "text": [
      "8000 : ,1.9650386323928832\n"
     ]
    },
    {
     "name": "stderr",
     "output_type": "stream",
     "text": [
      " 79%|███████▉  | 9007/11368 [03:05<00:46, 51.24it/s]"
     ]
    },
    {
     "name": "stdout",
     "output_type": "stream",
     "text": [
      "9000 : ,1.8228435747623444\n"
     ]
    },
    {
     "name": "stderr",
     "output_type": "stream",
     "text": [
      " 88%|████████▊ | 10009/11368 [03:25<00:26, 51.49it/s]"
     ]
    },
    {
     "name": "stdout",
     "output_type": "stream",
     "text": [
      "10000 : ,1.6693011283874513\n"
     ]
    },
    {
     "name": "stderr",
     "output_type": "stream",
     "text": [
      " 97%|█████████▋| 11005/11368 [03:44<00:07, 51.03it/s]"
     ]
    },
    {
     "name": "stdout",
     "output_type": "stream",
     "text": [
      "11000 : ,1.6346131539344788\n"
     ]
    },
    {
     "name": "stderr",
     "output_type": "stream",
     "text": [
      "100%|██████████| 11368/11368 [03:51<00:00, 49.02it/s]\n",
      "  0%|          | 0/11368 [00:00<?, ?it/s]"
     ]
    },
    {
     "name": "stdout",
     "output_type": "stream",
     "text": [
      "epoch 0  : 3.768245060256324\n"
     ]
    },
    {
     "name": "stderr",
     "output_type": "stream",
     "text": [
      "  6%|▌         | 637/11368 [00:14<03:44, 47.87it/s]"
     ]
    },
    {
     "name": "stdout",
     "output_type": "stream",
     "text": [
      "12000 : ,1.020244372010231\n"
     ]
    },
    {
     "name": "stderr",
     "output_type": "stream",
     "text": [
      " 14%|█▍        | 1636/11368 [00:35<03:14, 49.93it/s]"
     ]
    },
    {
     "name": "stdout",
     "output_type": "stream",
     "text": [
      "13000 : ,1.600449818611145\n"
     ]
    },
    {
     "name": "stderr",
     "output_type": "stream",
     "text": [
      " 23%|██▎       | 2638/11368 [00:55<02:53, 50.18it/s]"
     ]
    },
    {
     "name": "stdout",
     "output_type": "stream",
     "text": [
      "14000 : ,1.5834818542003632\n"
     ]
    },
    {
     "name": "stderr",
     "output_type": "stream",
     "text": [
      " 32%|███▏      | 3640/11368 [01:15<02:32, 50.59it/s]"
     ]
    },
    {
     "name": "stdout",
     "output_type": "stream",
     "text": [
      "15000 : ,1.5696719937324524\n"
     ]
    },
    {
     "name": "stderr",
     "output_type": "stream",
     "text": [
      " 41%|████      | 4641/11368 [01:35<02:12, 50.68it/s]"
     ]
    },
    {
     "name": "stdout",
     "output_type": "stream",
     "text": [
      "16000 : ,1.5582035180330276\n"
     ]
    },
    {
     "name": "stderr",
     "output_type": "stream",
     "text": [
      " 50%|████▉     | 5637/11368 [01:54<01:52, 50.85it/s]"
     ]
    },
    {
     "name": "stdout",
     "output_type": "stream",
     "text": [
      "17000 : ,1.556859850525856\n"
     ]
    },
    {
     "name": "stderr",
     "output_type": "stream",
     "text": [
      " 58%|█████▊    | 6639/11368 [02:19<01:31, 51.75it/s]"
     ]
    },
    {
     "name": "stdout",
     "output_type": "stream",
     "text": [
      "18000 : ,1.5378064210414886\n"
     ]
    },
    {
     "name": "stderr",
     "output_type": "stream",
     "text": [
      " 67%|██████▋   | 7641/11368 [02:38<01:12, 51.10it/s]"
     ]
    },
    {
     "name": "stdout",
     "output_type": "stream",
     "text": [
      "19000 : ,1.528007645726204\n"
     ]
    },
    {
     "name": "stderr",
     "output_type": "stream",
     "text": [
      " 76%|███████▌  | 8637/11368 [02:58<00:53, 51.15it/s]"
     ]
    },
    {
     "name": "stdout",
     "output_type": "stream",
     "text": [
      "20000 : ,1.5304236323833467\n"
     ]
    },
    {
     "name": "stderr",
     "output_type": "stream",
     "text": [
      " 85%|████████▍ | 9639/11368 [03:18<00:34, 50.17it/s]"
     ]
    },
    {
     "name": "stdout",
     "output_type": "stream",
     "text": [
      "21000 : ,1.5478742388486861\n"
     ]
    },
    {
     "name": "stderr",
     "output_type": "stream",
     "text": [
      " 94%|█████████▎| 10641/11368 [03:37<00:14, 51.13it/s]"
     ]
    },
    {
     "name": "stdout",
     "output_type": "stream",
     "text": [
      "22000 : ,1.5349622629880906\n"
     ]
    },
    {
     "name": "stderr",
     "output_type": "stream",
     "text": [
      "100%|██████████| 11368/11368 [03:52<00:00, 48.97it/s]\n",
      "  0%|          | 0/11368 [00:00<?, ?it/s]"
     ]
    },
    {
     "name": "stdout",
     "output_type": "stream",
     "text": [
      "epoch 1  : 1.5061791405735898\n"
     ]
    },
    {
     "name": "stderr",
     "output_type": "stream",
     "text": [
      "  2%|▏         | 272/11368 [00:06<03:53, 47.43it/s]"
     ]
    },
    {
     "name": "stdout",
     "output_type": "stream",
     "text": [
      "23000 : ,0.3987534183263779\n"
     ]
    },
    {
     "name": "stderr",
     "output_type": "stream",
     "text": [
      " 11%|█         | 1272/11368 [00:27<03:26, 48.99it/s]"
     ]
    },
    {
     "name": "stdout",
     "output_type": "stream",
     "text": [
      "24000 : ,1.5112093284130097\n"
     ]
    },
    {
     "name": "stderr",
     "output_type": "stream",
     "text": [
      " 20%|█▉        | 2268/11368 [00:58<05:09, 29.36it/s]"
     ]
    },
    {
     "name": "stdout",
     "output_type": "stream",
     "text": [
      "25000 : ,1.5087790049314498\n"
     ]
    },
    {
     "name": "stderr",
     "output_type": "stream",
     "text": [
      " 29%|██▉       | 3274/11368 [01:19<02:39, 50.84it/s]"
     ]
    },
    {
     "name": "stdout",
     "output_type": "stream",
     "text": [
      "26000 : ,1.5040461885929108\n"
     ]
    },
    {
     "name": "stderr",
     "output_type": "stream",
     "text": [
      " 38%|███▊      | 4270/11368 [01:38<02:20, 50.55it/s]"
     ]
    },
    {
     "name": "stdout",
     "output_type": "stream",
     "text": [
      "27000 : ,1.496883460998535\n"
     ]
    },
    {
     "name": "stderr",
     "output_type": "stream",
     "text": [
      " 46%|████▋     | 5271/11368 [01:58<01:59, 50.82it/s]"
     ]
    },
    {
     "name": "stdout",
     "output_type": "stream",
     "text": [
      "28000 : ,1.4947018536329268\n"
     ]
    },
    {
     "name": "stderr",
     "output_type": "stream",
     "text": [
      " 55%|█████▌    | 6272/11368 [02:23<01:40, 50.96it/s]"
     ]
    },
    {
     "name": "stdout",
     "output_type": "stream",
     "text": [
      "29000 : ,1.4863989573717118\n"
     ]
    },
    {
     "name": "stderr",
     "output_type": "stream",
     "text": [
      " 64%|██████▍   | 7274/11368 [02:42<01:19, 51.37it/s]"
     ]
    },
    {
     "name": "stdout",
     "output_type": "stream",
     "text": [
      "30000 : ,1.4845968379974366\n"
     ]
    },
    {
     "name": "stderr",
     "output_type": "stream",
     "text": [
      " 73%|███████▎  | 8268/11368 [03:12<01:47, 28.80it/s]"
     ]
    },
    {
     "name": "stdout",
     "output_type": "stream",
     "text": [
      "31000 : ,1.4823160754442215\n"
     ]
    },
    {
     "name": "stderr",
     "output_type": "stream",
     "text": [
      " 82%|████████▏ | 9268/11368 [03:48<01:14, 28.35it/s]"
     ]
    },
    {
     "name": "stdout",
     "output_type": "stream",
     "text": [
      "32000 : ,1.4594370067119598\n"
     ]
    },
    {
     "name": "stderr",
     "output_type": "stream",
     "text": [
      " 90%|█████████ | 10267/11368 [04:22<00:37, 29.65it/s]"
     ]
    },
    {
     "name": "stdout",
     "output_type": "stream",
     "text": [
      "33000 : ,1.4586890567541122\n"
     ]
    },
    {
     "name": "stderr",
     "output_type": "stream",
     "text": [
      " 99%|█████████▉| 11268/11368 [04:56<00:03, 29.76it/s]"
     ]
    },
    {
     "name": "stdout",
     "output_type": "stream",
     "text": [
      "34000 : ,1.4893187477588654\n"
     ]
    },
    {
     "name": "stderr",
     "output_type": "stream",
     "text": [
      "100%|██████████| 11368/11368 [05:00<00:00, 37.79it/s]\n",
      "  0%|          | 0/11368 [00:00<?, ?it/s]"
     ]
    },
    {
     "name": "stdout",
     "output_type": "stream",
     "text": [
      "epoch 2  : 1.3979263298058517\n"
     ]
    },
    {
     "name": "stderr",
     "output_type": "stream",
     "text": [
      "  8%|▊         | 904/11368 [00:24<03:35, 48.48it/s]"
     ]
    },
    {
     "name": "stdout",
     "output_type": "stream",
     "text": [
      "35000 : ,1.2672679897546768\n"
     ]
    },
    {
     "name": "stderr",
     "output_type": "stream",
     "text": [
      " 17%|█▋        | 1902/11368 [00:44<03:10, 49.74it/s]"
     ]
    },
    {
     "name": "stdout",
     "output_type": "stream",
     "text": [
      "36000 : ,1.4047353284358979\n"
     ]
    },
    {
     "name": "stderr",
     "output_type": "stream",
     "text": [
      " 26%|██▌       | 2904/11368 [01:05<02:48, 50.16it/s]"
     ]
    },
    {
     "name": "stdout",
     "output_type": "stream",
     "text": [
      "37000 : ,1.4149557231664658\n"
     ]
    },
    {
     "name": "stderr",
     "output_type": "stream",
     "text": [
      " 34%|███▍      | 3905/11368 [01:24<02:27, 50.46it/s]"
     ]
    },
    {
     "name": "stdout",
     "output_type": "stream",
     "text": [
      "38000 : ,1.401966588139534\n"
     ]
    },
    {
     "name": "stderr",
     "output_type": "stream",
     "text": [
      " 43%|████▎     | 4904/11368 [01:47<02:07, 50.72it/s]"
     ]
    },
    {
     "name": "stdout",
     "output_type": "stream",
     "text": [
      "39000 : ,1.3984114009141921\n"
     ]
    },
    {
     "name": "stderr",
     "output_type": "stream",
     "text": [
      " 52%|█████▏    | 5898/11368 [02:25<03:01, 30.12it/s]  "
     ]
    },
    {
     "name": "stdout",
     "output_type": "stream",
     "text": [
      "40000 : ,1.39547130548954\n"
     ]
    },
    {
     "name": "stderr",
     "output_type": "stream",
     "text": [
      " 61%|██████    | 6899/11368 [02:58<02:30, 29.67it/s]"
     ]
    },
    {
     "name": "stdout",
     "output_type": "stream",
     "text": [
      "41000 : ,1.3959735029935836\n"
     ]
    },
    {
     "name": "stderr",
     "output_type": "stream",
     "text": [
      " 69%|██████▉   | 7900/11368 [03:32<01:55, 29.91it/s]"
     ]
    },
    {
     "name": "stdout",
     "output_type": "stream",
     "text": [
      "42000 : ,1.3715066882371902\n"
     ]
    },
    {
     "name": "stderr",
     "output_type": "stream",
     "text": [
      " 78%|███████▊  | 8901/11368 [04:05<01:22, 29.88it/s]"
     ]
    },
    {
     "name": "stdout",
     "output_type": "stream",
     "text": [
      "43000 : ,1.334033786058426\n"
     ]
    },
    {
     "name": "stderr",
     "output_type": "stream",
     "text": [
      " 87%|████████▋ | 9901/11368 [04:40<00:50, 29.05it/s]"
     ]
    },
    {
     "name": "stdout",
     "output_type": "stream",
     "text": [
      "44000 : ,1.2951143079996108\n"
     ]
    },
    {
     "name": "stderr",
     "output_type": "stream",
     "text": [
      " 96%|█████████▌| 10898/11368 [05:14<00:16, 29.28it/s]"
     ]
    },
    {
     "name": "stdout",
     "output_type": "stream",
     "text": [
      "45000 : ,1.3084537612199783\n"
     ]
    },
    {
     "name": "stderr",
     "output_type": "stream",
     "text": [
      "100%|██████████| 11368/11368 [05:31<00:00, 34.34it/s]\n",
      "  0%|          | 0/11368 [00:00<?, ?it/s]"
     ]
    },
    {
     "name": "stdout",
     "output_type": "stream",
     "text": [
      "epoch 3  : 1.3625342506424172\n"
     ]
    },
    {
     "name": "stderr",
     "output_type": "stream",
     "text": [
      "  5%|▍         | 533/11368 [00:21<06:30, 27.77it/s]"
     ]
    },
    {
     "name": "stdout",
     "output_type": "stream",
     "text": [
      "46000 : ,0.6790796521902084\n"
     ]
    },
    {
     "name": "stderr",
     "output_type": "stream",
     "text": [
      " 13%|█▎        | 1533/11368 [00:56<05:37, 29.16it/s]"
     ]
    },
    {
     "name": "stdout",
     "output_type": "stream",
     "text": [
      "47000 : ,1.2866803946495056\n"
     ]
    },
    {
     "name": "stderr",
     "output_type": "stream",
     "text": [
      " 22%|██▏       | 2532/11368 [01:30<04:56, 29.78it/s]"
     ]
    },
    {
     "name": "stdout",
     "output_type": "stream",
     "text": [
      "48000 : ,1.295491662979126\n"
     ]
    },
    {
     "name": "stderr",
     "output_type": "stream",
     "text": [
      " 31%|███       | 3532/11368 [02:00<02:38, 49.41it/s]"
     ]
    },
    {
     "name": "stdout",
     "output_type": "stream",
     "text": [
      "49000 : ,1.289484082698822\n"
     ]
    },
    {
     "name": "stderr",
     "output_type": "stream",
     "text": [
      " 40%|███▉      | 4534/11368 [02:20<02:15, 50.39it/s]"
     ]
    },
    {
     "name": "stdout",
     "output_type": "stream",
     "text": [
      "50000 : ,1.2794692425727845\n"
     ]
    },
    {
     "name": "stderr",
     "output_type": "stream",
     "text": [
      " 49%|████▊     | 5536/11368 [02:40<01:55, 50.52it/s]"
     ]
    },
    {
     "name": "stdout",
     "output_type": "stream",
     "text": [
      "51000 : ,1.2905730805397033\n"
     ]
    },
    {
     "name": "stderr",
     "output_type": "stream",
     "text": [
      " 58%|█████▊    | 6537/11368 [03:04<01:34, 51.07it/s]"
     ]
    },
    {
     "name": "stdout",
     "output_type": "stream",
     "text": [
      "52000 : ,1.2796496261358261\n"
     ]
    },
    {
     "name": "stderr",
     "output_type": "stream",
     "text": [
      " 66%|██████▋   | 7533/11368 [03:24<01:15, 51.08it/s]"
     ]
    },
    {
     "name": "stdout",
     "output_type": "stream",
     "text": [
      "53000 : ,1.3033563413619995\n"
     ]
    },
    {
     "name": "stderr",
     "output_type": "stream",
     "text": [
      " 75%|███████▌  | 8535/11368 [03:43<00:55, 50.87it/s]"
     ]
    },
    {
     "name": "stdout",
     "output_type": "stream",
     "text": [
      "54000 : ,1.3006094504594803\n"
     ]
    },
    {
     "name": "stderr",
     "output_type": "stream",
     "text": [
      " 84%|████████▍ | 9537/11368 [04:03<00:35, 51.32it/s]"
     ]
    },
    {
     "name": "stdout",
     "output_type": "stream",
     "text": [
      "55000 : ,1.310014171361923\n"
     ]
    },
    {
     "name": "stderr",
     "output_type": "stream",
     "text": [
      " 93%|█████████▎| 10533/11368 [04:22<00:16, 51.19it/s]"
     ]
    },
    {
     "name": "stdout",
     "output_type": "stream",
     "text": [
      "56000 : ,1.2998504415750503\n"
     ]
    },
    {
     "name": "stderr",
     "output_type": "stream",
     "text": [
      "100%|██████████| 11368/11368 [04:39<00:00, 40.68it/s]\n",
      "  0%|          | 0/11368 [00:00<?, ?it/s]"
     ]
    },
    {
     "name": "stdout",
     "output_type": "stream",
     "text": [
      "epoch 4  : 1.2376587063579423\n"
     ]
    },
    {
     "name": "stderr",
     "output_type": "stream",
     "text": [
      "  1%|▏         | 167/11368 [00:04<03:58, 46.93it/s]"
     ]
    },
    {
     "name": "stdout",
     "output_type": "stream",
     "text": [
      "57000 : ,0.214549178481102\n"
     ]
    },
    {
     "name": "stderr",
     "output_type": "stream",
     "text": [
      " 10%|█         | 1168/11368 [00:25<03:26, 49.31it/s]"
     ]
    },
    {
     "name": "stdout",
     "output_type": "stream",
     "text": [
      "58000 : ,1.3206347141265868\n"
     ]
    },
    {
     "name": "stderr",
     "output_type": "stream",
     "text": [
      " 19%|█▉        | 2168/11368 [00:45<03:03, 50.14it/s]"
     ]
    },
    {
     "name": "stdout",
     "output_type": "stream",
     "text": [
      "59000 : ,1.2938573925495147\n"
     ]
    },
    {
     "name": "stderr",
     "output_type": "stream",
     "text": [
      " 28%|██▊       | 3166/11368 [01:05<02:43, 50.25it/s]"
     ]
    },
    {
     "name": "stdout",
     "output_type": "stream",
     "text": [
      "60000 : ,1.2926249179840088\n"
     ]
    },
    {
     "name": "stderr",
     "output_type": "stream",
     "text": [
      " 37%|███▋      | 4167/11368 [01:25<02:23, 50.33it/s]"
     ]
    },
    {
     "name": "stdout",
     "output_type": "stream",
     "text": [
      "61000 : ,1.28467184984684\n"
     ]
    },
    {
     "name": "stderr",
     "output_type": "stream",
     "text": [
      " 45%|████▌     | 5167/11368 [01:46<03:03, 33.87it/s]"
     ]
    },
    {
     "name": "stdout",
     "output_type": "stream",
     "text": [
      "62000 : ,1.2708676527738572\n"
     ]
    },
    {
     "name": "stderr",
     "output_type": "stream",
     "text": [
      " 54%|█████▍    | 6164/11368 [02:21<02:56, 29.42it/s]"
     ]
    },
    {
     "name": "stdout",
     "output_type": "stream",
     "text": [
      "63000 : ,1.2427384819984435\n"
     ]
    },
    {
     "name": "stderr",
     "output_type": "stream",
     "text": [
      " 63%|██████▎   | 7165/11368 [02:50<02:20, 29.84it/s]"
     ]
    },
    {
     "name": "stdout",
     "output_type": "stream",
     "text": [
      "64000 : ,1.2513718841075898\n"
     ]
    },
    {
     "name": "stderr",
     "output_type": "stream",
     "text": [
      " 72%|███████▏  | 8165/11368 [03:12<01:02, 50.97it/s]"
     ]
    },
    {
     "name": "stdout",
     "output_type": "stream",
     "text": [
      "65000 : ,1.2522201709747314\n"
     ]
    },
    {
     "name": "stderr",
     "output_type": "stream",
     "text": [
      " 81%|████████  | 9168/11368 [03:32<00:43, 51.11it/s]"
     ]
    },
    {
     "name": "stdout",
     "output_type": "stream",
     "text": [
      "66000 : ,1.2409565527439117\n"
     ]
    },
    {
     "name": "stderr",
     "output_type": "stream",
     "text": [
      " 89%|████████▉ | 10163/11368 [03:56<00:40, 29.84it/s]"
     ]
    },
    {
     "name": "stdout",
     "output_type": "stream",
     "text": [
      "67000 : ,1.247758344888687\n"
     ]
    },
    {
     "name": "stderr",
     "output_type": "stream",
     "text": [
      " 98%|█████████▊| 11165/11368 [04:22<00:03, 51.21it/s]"
     ]
    },
    {
     "name": "stdout",
     "output_type": "stream",
     "text": [
      "68000 : ,1.2439661518335343\n"
     ]
    },
    {
     "name": "stderr",
     "output_type": "stream",
     "text": [
      "100%|██████████| 11368/11368 [04:26<00:00, 42.63it/s]\n",
      "  0%|          | 0/11368 [00:00<?, ?it/s]"
     ]
    },
    {
     "name": "stdout",
     "output_type": "stream",
     "text": [
      "epoch 5  : 1.1796837912892413\n"
     ]
    },
    {
     "name": "stderr",
     "output_type": "stream",
     "text": [
      "  7%|▋         | 796/11368 [00:19<06:21, 27.74it/s]"
     ]
    },
    {
     "name": "stdout",
     "output_type": "stream",
     "text": [
      "69000 : ,0.9858592290878296\n"
     ]
    },
    {
     "name": "stderr",
     "output_type": "stream",
     "text": [
      " 16%|█▌        | 1802/11368 [00:48<03:12, 49.80it/s]"
     ]
    },
    {
     "name": "stdout",
     "output_type": "stream",
     "text": [
      "70000 : ,1.2365803155899049\n"
     ]
    },
    {
     "name": "stderr",
     "output_type": "stream",
     "text": [
      " 25%|██▍       | 2798/11368 [01:08<02:51, 50.07it/s]"
     ]
    },
    {
     "name": "stdout",
     "output_type": "stream",
     "text": [
      "71000 : ,1.2391534535884856\n"
     ]
    },
    {
     "name": "stderr",
     "output_type": "stream",
     "text": [
      " 33%|███▎      | 3798/11368 [01:28<02:28, 51.04it/s]"
     ]
    },
    {
     "name": "stdout",
     "output_type": "stream",
     "text": [
      "72000 : ,1.2252276380062104\n"
     ]
    },
    {
     "name": "stderr",
     "output_type": "stream",
     "text": [
      " 42%|████▏     | 4800/11368 [01:48<02:11, 49.77it/s]"
     ]
    },
    {
     "name": "stdout",
     "output_type": "stream",
     "text": [
      "73000 : ,1.2338109010457992\n"
     ]
    },
    {
     "name": "stderr",
     "output_type": "stream",
     "text": [
      " 51%|█████     | 5801/11368 [02:12<02:00, 46.04it/s]"
     ]
    },
    {
     "name": "stdout",
     "output_type": "stream",
     "text": [
      "74000 : ,1.2311176084280013\n"
     ]
    },
    {
     "name": "stderr",
     "output_type": "stream",
     "text": [
      " 60%|█████▉    | 6797/11368 [02:32<01:29, 50.97it/s]"
     ]
    },
    {
     "name": "stdout",
     "output_type": "stream",
     "text": [
      "75000 : ,1.2197690864801407\n"
     ]
    },
    {
     "name": "stderr",
     "output_type": "stream",
     "text": [
      " 69%|██████▊   | 7799/11368 [02:51<01:10, 50.84it/s]"
     ]
    },
    {
     "name": "stdout",
     "output_type": "stream",
     "text": [
      "76000 : ,1.2574467883110045\n"
     ]
    },
    {
     "name": "stderr",
     "output_type": "stream",
     "text": [
      " 77%|███████▋  | 8801/11368 [03:11<00:50, 50.93it/s]"
     ]
    },
    {
     "name": "stdout",
     "output_type": "stream",
     "text": [
      "77000 : ,1.232579245686531\n"
     ]
    },
    {
     "name": "stderr",
     "output_type": "stream",
     "text": [
      " 86%|████████▌ | 9797/11368 [03:31<00:30, 51.11it/s]"
     ]
    },
    {
     "name": "stdout",
     "output_type": "stream",
     "text": [
      "78000 : ,1.2290189266204834\n"
     ]
    },
    {
     "name": "stderr",
     "output_type": "stream",
     "text": [
      " 95%|█████████▍| 10799/11368 [03:50<00:11, 51.34it/s]"
     ]
    },
    {
     "name": "stdout",
     "output_type": "stream",
     "text": [
      "79000 : ,1.225285340666771\n"
     ]
    },
    {
     "name": "stderr",
     "output_type": "stream",
     "text": [
      "100%|██████████| 11368/11368 [04:02<00:00, 46.94it/s]\n",
      "  0%|          | 0/11368 [00:00<?, ?it/s]"
     ]
    },
    {
     "name": "stdout",
     "output_type": "stream",
     "text": [
      "epoch 6  : 1.2105305843823015\n"
     ]
    },
    {
     "name": "stderr",
     "output_type": "stream",
     "text": [
      "  4%|▍         | 432/11368 [00:10<03:51, 47.28it/s]"
     ]
    },
    {
     "name": "stdout",
     "output_type": "stream",
     "text": [
      "80000 : ,0.5116001539230347\n"
     ]
    },
    {
     "name": "stderr",
     "output_type": "stream",
     "text": [
      " 13%|█▎        | 1432/11368 [00:30<03:19, 49.73it/s]"
     ]
    },
    {
     "name": "stdout",
     "output_type": "stream",
     "text": [
      "81000 : ,1.2174506131410598\n"
     ]
    },
    {
     "name": "stderr",
     "output_type": "stream",
     "text": [
      " 21%|██▏       | 2429/11368 [00:51<02:59, 49.87it/s]"
     ]
    },
    {
     "name": "stdout",
     "output_type": "stream",
     "text": [
      "82000 : ,1.2187663420438766\n"
     ]
    },
    {
     "name": "stderr",
     "output_type": "stream",
     "text": [
      " 30%|███       | 3432/11368 [01:11<02:38, 50.08it/s]"
     ]
    },
    {
     "name": "stdout",
     "output_type": "stream",
     "text": [
      "83000 : ,1.2237633992433548\n"
     ]
    },
    {
     "name": "stderr",
     "output_type": "stream",
     "text": [
      " 39%|███▉      | 4433/11368 [01:30<02:18, 50.17it/s]"
     ]
    },
    {
     "name": "stdout",
     "output_type": "stream",
     "text": [
      "84000 : ,1.1983985234498977\n"
     ]
    },
    {
     "name": "stderr",
     "output_type": "stream",
     "text": [
      " 48%|████▊     | 5429/11368 [01:50<01:57, 50.66it/s]"
     ]
    },
    {
     "name": "stdout",
     "output_type": "stream",
     "text": [
      "85000 : ,1.2000785623788834\n"
     ]
    },
    {
     "name": "stderr",
     "output_type": "stream",
     "text": [
      " 57%|█████▋    | 6431/11368 [02:15<01:36, 51.32it/s]"
     ]
    },
    {
     "name": "stdout",
     "output_type": "stream",
     "text": [
      "86000 : ,1.1994633730649948\n"
     ]
    },
    {
     "name": "stderr",
     "output_type": "stream",
     "text": [
      " 65%|██████▌   | 7433/11368 [02:34<01:17, 50.80it/s]"
     ]
    },
    {
     "name": "stdout",
     "output_type": "stream",
     "text": [
      "87000 : ,1.1958283988237381\n"
     ]
    },
    {
     "name": "stderr",
     "output_type": "stream",
     "text": [
      " 74%|███████▍  | 8429/11368 [02:54<00:57, 50.91it/s]"
     ]
    },
    {
     "name": "stdout",
     "output_type": "stream",
     "text": [
      "88000 : ,1.1962288753986359\n"
     ]
    },
    {
     "name": "stderr",
     "output_type": "stream",
     "text": [
      " 83%|████████▎ | 9431/11368 [03:14<00:38, 50.91it/s]"
     ]
    },
    {
     "name": "stdout",
     "output_type": "stream",
     "text": [
      "89000 : ,1.1938634914159776\n"
     ]
    },
    {
     "name": "stderr",
     "output_type": "stream",
     "text": [
      " 92%|█████████▏| 10433/11368 [03:33<00:18, 51.05it/s]"
     ]
    },
    {
     "name": "stdout",
     "output_type": "stream",
     "text": [
      "90000 : ,1.1889655216932298\n"
     ]
    },
    {
     "name": "stderr",
     "output_type": "stream",
     "text": [
      "100%|██████████| 11368/11368 [03:52<00:00, 48.91it/s]\n",
      "  0%|          | 0/11368 [00:00<?, ?it/s]"
     ]
    },
    {
     "name": "stdout",
     "output_type": "stream",
     "text": [
      "epoch 7  : 1.1403996227800415\n"
     ]
    },
    {
     "name": "stderr",
     "output_type": "stream",
     "text": [
      "  1%|          | 62/11368 [00:02<04:12, 44.81it/s] "
     ]
    },
    {
     "name": "stdout",
     "output_type": "stream",
     "text": [
      "91000 : ,0.06581257688999176\n"
     ]
    },
    {
     "name": "stderr",
     "output_type": "stream",
     "text": [
      "  9%|▉         | 1066/11368 [00:23<03:28, 49.34it/s]"
     ]
    },
    {
     "name": "stdout",
     "output_type": "stream",
     "text": [
      "92000 : ,1.1923135112524033\n"
     ]
    },
    {
     "name": "stderr",
     "output_type": "stream",
     "text": [
      " 18%|█▊        | 2062/11368 [00:43<03:07, 49.75it/s]"
     ]
    },
    {
     "name": "stdout",
     "output_type": "stream",
     "text": [
      "93000 : ,1.2018265318870545\n"
     ]
    },
    {
     "name": "stderr",
     "output_type": "stream",
     "text": [
      " 27%|██▋       | 3061/11368 [01:03<02:44, 50.39it/s]"
     ]
    },
    {
     "name": "stdout",
     "output_type": "stream",
     "text": [
      "94000 : ,1.187504056930542\n"
     ]
    },
    {
     "name": "stderr",
     "output_type": "stream",
     "text": [
      " 36%|███▌      | 4066/11368 [01:23<02:25, 50.17it/s]"
     ]
    },
    {
     "name": "stdout",
     "output_type": "stream",
     "text": [
      "95000 : ,1.187587702035904\n"
     ]
    },
    {
     "name": "stderr",
     "output_type": "stream",
     "text": [
      " 45%|████▍     | 5062/11368 [01:43<02:03, 51.05it/s]"
     ]
    },
    {
     "name": "stdout",
     "output_type": "stream",
     "text": [
      "96000 : ,1.1909438672065735\n"
     ]
    },
    {
     "name": "stderr",
     "output_type": "stream",
     "text": [
      " 53%|█████▎    | 6064/11368 [02:07<01:42, 51.67it/s]"
     ]
    },
    {
     "name": "stdout",
     "output_type": "stream",
     "text": [
      "97000 : ,1.1808428559303283\n"
     ]
    },
    {
     "name": "stderr",
     "output_type": "stream",
     "text": [
      " 62%|██████▏   | 7066/11368 [02:27<01:24, 50.94it/s]"
     ]
    },
    {
     "name": "stdout",
     "output_type": "stream",
     "text": [
      "98000 : ,1.1780510611534118\n"
     ]
    },
    {
     "name": "stderr",
     "output_type": "stream",
     "text": [
      " 71%|███████   | 8062/11368 [02:47<01:05, 50.81it/s]"
     ]
    },
    {
     "name": "stdout",
     "output_type": "stream",
     "text": [
      "99000 : ,1.1807428060770035\n"
     ]
    },
    {
     "name": "stderr",
     "output_type": "stream",
     "text": [
      " 80%|███████▉  | 9064/11368 [03:06<00:44, 51.33it/s]"
     ]
    },
    {
     "name": "stdout",
     "output_type": "stream",
     "text": [
      "100000 : ,1.1755360497236251\n"
     ]
    },
    {
     "name": "stderr",
     "output_type": "stream",
     "text": [
      " 89%|████████▊ | 10066/11368 [03:26<00:25, 51.04it/s]"
     ]
    },
    {
     "name": "stdout",
     "output_type": "stream",
     "text": [
      "101000 : ,1.1740753186941146\n"
     ]
    },
    {
     "name": "stderr",
     "output_type": "stream",
     "text": [
      " 97%|█████████▋| 11062/11368 [03:45<00:05, 51.20it/s]"
     ]
    },
    {
     "name": "stdout",
     "output_type": "stream",
     "text": [
      "102000 : ,1.171813105762005\n"
     ]
    },
    {
     "name": "stderr",
     "output_type": "stream",
     "text": [
      "100%|██████████| 11368/11368 [03:52<00:00, 48.96it/s]\n",
      "  0%|          | 0/11368 [00:00<?, ?it/s]"
     ]
    },
    {
     "name": "stdout",
     "output_type": "stream",
     "text": [
      "epoch 8  : 1.0905865448064591\n"
     ]
    },
    {
     "name": "stderr",
     "output_type": "stream",
     "text": [
      "  6%|▌         | 697/11368 [00:16<03:41, 48.17it/s]"
     ]
    },
    {
     "name": "stdout",
     "output_type": "stream",
     "text": [
      "103000 : ,0.801619200348854\n"
     ]
    },
    {
     "name": "stderr",
     "output_type": "stream",
     "text": [
      " 15%|█▍        | 1693/11368 [00:36<03:13, 49.89it/s]"
     ]
    },
    {
     "name": "stdout",
     "output_type": "stream",
     "text": [
      "104000 : ,1.1652927132844926\n"
     ]
    },
    {
     "name": "stderr",
     "output_type": "stream",
     "text": [
      " 24%|██▎       | 2694/11368 [00:56<02:52, 50.23it/s]"
     ]
    },
    {
     "name": "stdout",
     "output_type": "stream",
     "text": [
      "105000 : ,1.1734922896623612\n"
     ]
    },
    {
     "name": "stderr",
     "output_type": "stream",
     "text": [
      " 32%|███▏      | 3693/11368 [01:16<02:31, 50.73it/s]"
     ]
    },
    {
     "name": "stdout",
     "output_type": "stream",
     "text": [
      "106000 : ,1.1670321366786958\n"
     ]
    },
    {
     "name": "stderr",
     "output_type": "stream",
     "text": [
      " 41%|████▏     | 4695/11368 [01:36<02:11, 50.83it/s]"
     ]
    },
    {
     "name": "stdout",
     "output_type": "stream",
     "text": [
      "107000 : ,1.1716341876983642\n"
     ]
    },
    {
     "name": "stderr",
     "output_type": "stream",
     "text": [
      " 50%|█████     | 5697/11368 [01:55<01:52, 50.51it/s]"
     ]
    },
    {
     "name": "stdout",
     "output_type": "stream",
     "text": [
      "108000 : ,1.1700149672031404\n"
     ]
    },
    {
     "name": "stderr",
     "output_type": "stream",
     "text": [
      " 59%|█████▉    | 6698/11368 [02:20<01:31, 50.98it/s]"
     ]
    },
    {
     "name": "stdout",
     "output_type": "stream",
     "text": [
      "109000 : ,1.165518513441086\n"
     ]
    },
    {
     "name": "stderr",
     "output_type": "stream",
     "text": [
      " 68%|██████▊   | 7694/11368 [02:39<01:12, 50.46it/s]"
     ]
    },
    {
     "name": "stdout",
     "output_type": "stream",
     "text": [
      "110000 : ,1.1590398536324502\n"
     ]
    },
    {
     "name": "stderr",
     "output_type": "stream",
     "text": [
      " 76%|███████▋  | 8696/11368 [02:59<00:52, 51.05it/s]"
     ]
    },
    {
     "name": "stdout",
     "output_type": "stream",
     "text": [
      "111000 : ,1.1638761727809905\n"
     ]
    },
    {
     "name": "stderr",
     "output_type": "stream",
     "text": [
      " 85%|████████▌ | 9698/11368 [03:19<00:32, 51.08it/s]"
     ]
    },
    {
     "name": "stdout",
     "output_type": "stream",
     "text": [
      "112000 : ,1.1659174205064773\n"
     ]
    },
    {
     "name": "stderr",
     "output_type": "stream",
     "text": [
      " 94%|█████████▍| 10693/11368 [03:38<00:13, 50.49it/s]"
     ]
    },
    {
     "name": "stdout",
     "output_type": "stream",
     "text": [
      "113000 : ,1.1593711977005006\n"
     ]
    },
    {
     "name": "stderr",
     "output_type": "stream",
     "text": [
      "100%|██████████| 11368/11368 [03:51<00:00, 49.01it/s]"
     ]
    },
    {
     "name": "stdout",
     "output_type": "stream",
     "text": [
      "epoch 9  : 1.1329815748292424\n"
     ]
    },
    {
     "name": "stderr",
     "output_type": "stream",
     "text": [
      "\n"
     ]
    }
   ],
   "source": [
    "# hyperparameter 설정\n",
    "epochs = 10\n",
    "gpu_num = 1\n",
    "lr = 0.001\n",
    "batch_size = 512\n",
    "\n",
    "# dataloader 설정\n",
    "dataloader = DataLoader(data, batch_size=batch_size, shuffle=True , num_workers=1)\n",
    "\n",
    "# AutoEncoder model 설정\n",
    "class AE(nn.Module):\n",
    "    def __init__(self, input_size=12):\n",
    "        super(AE, self).__init__()\n",
    "        \n",
    "        \n",
    "        self.layers = nn.Sequential(\n",
    "            self.make_linear(input_size, 128),\n",
    "            self.make_linear(128, 64),\n",
    "            self.make_linear(64, 4),\n",
    "            self.make_linear(4, 64),\n",
    "            self.make_linear(64, 128),\n",
    "            self.make_linear(64, input_size)\n",
    "        )\n",
    "        \n",
    "    def make_linear(self, input_size, output_size):\n",
    "        return nn.Sequential(\n",
    "            nn.Linear(input_size, output_size),\n",
    "            nn.BatchNorm1d(output_size),\n",
    "            nn.ReLU()\n",
    "        )\n",
    "        \n",
    "    def forward(self, x):\n",
    "        return self.layers(x)\n",
    "\n",
    "\n",
    "device= torch.device('cpu')\n",
    "use_gpu = torch.cuda.is_available()\n",
    "if use_gpu:\n",
    "    print(\"Using CUDA\")\n",
    "    device = torch.device(\"cuda:{}\".format(gpu_num))\n",
    "print(device)\n",
    "\n",
    "\n",
    "model = AE().to(device)\n",
    "criterion = nn.MSELoss().to(device)\n",
    "optimizer = optim.Adam(model.parameters(), lr=lr)\n",
    "losses = []\n",
    "\n",
    "from tqdm import tqdm\n",
    "idx = 0\n",
    "\n",
    "\n",
    "# 학습\n",
    "for epoch in range(epochs):\n",
    "    epoch_loss = 0\n",
    "    for i, x in enumerate(tqdm(dataloader)):\n",
    "        idx += 1\n",
    "        \n",
    "        ip = torch.cat([x[0], x[1]], dim = 0).to(device)\n",
    "        output = model(ip)\n",
    "        loss = criterion(output, ip)\n",
    "        loss.backward()\n",
    "        optimizer.step()\n",
    "        optimizer.zero_grad()\n",
    "        \n",
    "        epoch_loss += loss.item()\n",
    "        if idx % 1000 == 0:\n",
    "            print(f'{idx} : ,{epoch_loss/1000}')\n",
    "            losses.append(epoch_loss/1000)\n",
    "#             print(epoch_loss/100)\n",
    "            epoch_loss = 0\n",
    "    \n",
    "\n",
    "    epoch_losses = losses[(len(dataloader) * epoch) // 1000 : len(dataloader) * (epoch + 1)]\n",
    "    epoch_losses = sum(epoch_losses) / (len(epoch_losses) + 0.00001)\n",
    "    print(f\"epoch {epoch}  : {epoch_losses}\")\n",
    "    \n",
    "#     print(f\"Training epoch {epoch}... Loss: {}\")"
   ]
  },
  {
   "cell_type": "code",
   "execution_count": 21,
   "id": "5713d5a4",
   "metadata": {
    "ExecuteTime": {
     "end_time": "2021-12-16T15:53:42.307670Z",
     "start_time": "2021-12-16T15:53:42.302982Z"
    }
   },
   "outputs": [],
   "source": [
    "# 학습된 모델을 encoder 파트와 decoder 파트로 나눔\n",
    "encoder = model.layers[:4]\n",
    "decoder = model.layers[4:]\n"
   ]
  },
  {
   "cell_type": "code",
   "execution_count": 22,
   "id": "c0aab126",
   "metadata": {
    "ExecuteTime": {
     "end_time": "2021-12-16T15:53:43.620848Z",
     "start_time": "2021-12-16T15:53:43.588525Z"
    }
   },
   "outputs": [],
   "source": [
    "\n",
    "torch.save(encoder, \"encoder_latent1_epoch10.pth\")\n",
    "torch.save(decoder, \"decoder_latent1_epoch10.pth\")\n",
    "torch.save(model, \"model_latent1_epoch10.pth\")\n"
   ]
  },
  {
   "cell_type": "code",
   "execution_count": 23,
   "id": "e4ccb3cf",
   "metadata": {
    "ExecuteTime": {
     "end_time": "2021-12-16T15:57:33.725990Z",
     "start_time": "2021-12-16T15:53:45.452761Z"
    }
   },
   "outputs": [
    {
     "name": "stderr",
     "output_type": "stream",
     "text": [
      "100%|██████████| 11368/11368 [03:48<00:00, 49.85it/s]"
     ]
    },
    {
     "name": "stdout",
     "output_type": "stream",
     "text": [
      "accuracy :  tensor(0.6497, device='cuda:1')\n"
     ]
    },
    {
     "name": "stderr",
     "output_type": "stream",
     "text": [
      "\n"
     ]
    }
   ],
   "source": [
    "import numpy as np\n",
    "\n",
    "\n",
    "# src_ip와 dst_ip를 encoder를 통해 encoding\n",
    "# 추가로 encoder의 accuracy도 확인\n",
    "acc = 0\n",
    "src_ip = torch.zeros((len(data),4), dtype=torch.float).to(device)\n",
    "dst_ip = torch.zeros((len(data),4), dtype=torch.float).to(device)\n",
    "\n",
    "for i, d in enumerate(tqdm(dataloader)):\n",
    "    \n",
    "    with torch.no_grad():\n",
    "        ip = torch.cat([d[0], d[1]], dim = 0).to(device)\n",
    "        encoder_output = encoder(ip)\n",
    "        decoder_output = torch.round(decoder(encoder_output))\n",
    "        acc += torch.sum(decoder_output == ip) / (ip.shape[0] * ip.shape[1])\n",
    "        try:\n",
    "            src_ip[batch_size * i : batch_size * (i+1)] = encoder_output[:len(encoder_output)//2]\n",
    "            dst_ip[batch_size * i : batch_size * (i+1)] = encoder_output[len(encoder_output)//2:]\n",
    "        except:\n",
    "            src_ip[batch_size * i :] = encoder_output[:len(encoder_output)//2]\n",
    "            dst_ip[batch_size * i :] = encoder_output[len(encoder_output)//2:]\n",
    "        \n",
    "src_ip = src_ip.detach().cpu().numpy()\n",
    "dst_ip = dst_ip.detach().cpu().numpy()\n",
    "\n",
    "print(\"accuracy : \", acc/len(dataloader))\n"
   ]
  },
  {
   "cell_type": "code",
   "execution_count": 264,
   "id": "a384ce1a",
   "metadata": {
    "ExecuteTime": {
     "end_time": "2021-12-16T05:26:10.912871Z",
     "start_time": "2021-12-16T05:25:55.297119Z"
    }
   },
   "outputs": [
    {
     "name": "stderr",
     "output_type": "stream",
     "text": [
      "100%|██████████| 5820310/5820310 [00:14<00:00, 410529.86it/s]\n"
     ]
    }
   ],
   "source": [
    "# ip주소를 제외한 나머지 데이터를 불러옴\n",
    "# 이때 dataloader를 사용하면 속도가 느리기에 일반적으로 data를 불러오는 방식 사용\n",
    "proto = np.zeros(len(data),dtype=float)\n",
    "src_port =  np.zeros(len(data),dtype=float)\n",
    "dst_port =  np.zeros(len(data),dtype=float)\n",
    "action =  np.zeros(len(data),dtype=float)\n",
    "src_country =  np.zeros(len(data),dtype=float)\n",
    "dst_country =  np.zeros(len(data),dtype=float)\n",
    "\n",
    "data = open(\"04_hashed.csv\").readlines()[1:]\n",
    "\n",
    "\n",
    "for i, d in enumerate(tqdm(data)):\n",
    "    d = d.rstrip().split(\",\")[1:]\n",
    "    d[3] = float(d[3])\n",
    "    d[4] = float(d[4])\n",
    "    proto[i] = float(d[2])\n",
    "    src_port[i] = 0.0 if d[3] < 1024 else (1.0 if d[3] < 49152 else 2.0)\n",
    "    dst_port[i] = 0.0 if d[4] < 1024 else (1.0 if d[4] < 49152 else 2.0)\n",
    "    action[i] = float(d[5])\n",
    "    src_country[i] = float(country_dict[d[6]])\n",
    "    dst_country[i] = float(country_dict[d[7]])\n",
    "\n",
    "    "
   ]
  },
  {
   "cell_type": "code",
   "execution_count": 305,
   "id": "34cc2a53",
   "metadata": {
    "ExecuteTime": {
     "end_time": "2021-12-16T05:42:27.070311Z",
     "start_time": "2021-12-16T05:42:26.695465Z"
    }
   },
   "outputs": [],
   "source": [
    "# data 정규화\n",
    "normal_distribution = lambda data : (data-np.mean(data))/np.std(data)\n",
    "\n",
    "proto = normal_distribution(proto)\n",
    "src_port = normal_distribution(src_port)\n",
    "dst_port = normal_distribution(dst_port)\n",
    "action = normal_distribution(action)\n",
    "src_country = normal_distribution(src_country)\n",
    "dst_country = normal_distribution(dst_country)\n"
   ]
  },
  {
   "cell_type": "code",
   "execution_count": 321,
   "id": "db4d39b7",
   "metadata": {
    "ExecuteTime": {
     "end_time": "2021-12-16T06:00:55.141614Z",
     "start_time": "2021-12-16T06:00:55.123338Z"
    }
   },
   "outputs": [
    {
     "name": "stderr",
     "output_type": "stream",
     "text": [
      "  0%|          | 101/5820310 [00:00<02:37, 36955.83it/s]\n"
     ]
    }
   ],
   "source": [
    "# csv 형식으로 전처리 파일 저장\n",
    "import csv\n",
    "\n",
    "with open('preprocessed_sample.csv', 'w', newline='') as csvfile:\n",
    "    fieldnames = ['src_ip1','src_ip2','src_ip3','src_ip4',\n",
    "                       'dst_ip1','dst_ip2','dst_ip3','dst_ip4',\n",
    "                       'proto', 'src_port', 'dst_port', 'action',\n",
    "                       'src_country', 'dst_country']\n",
    "    writer = csv.DictWriter(csvfile, fieldnames=fieldnames)\n",
    "    writer.writeheader()\n",
    "    \n",
    "    for i, d in enumerate(tqdm(src_ip)):\n",
    " \n",
    "        if i > 100:\n",
    "            break\n",
    "        writer.writerow({\n",
    "            \"src_ip1\" : src_ip[i][0],\n",
    "            \"src_ip2\" : src_ip[i][1],\n",
    "            \"src_ip3\" : src_ip[i][2],\n",
    "            \"src_ip4\" : src_ip[i][3],\n",
    "            \"dst_ip1\" : dst_ip[i][0],\n",
    "            \"dst_ip2\" : dst_ip[i][1],\n",
    "            \"dst_ip3\" : dst_ip[i][2],\n",
    "            \"dst_ip4\" : dst_ip[i][3],\n",
    "            \"proto\" : proto[i],\n",
    "            \"src_port\" : src_port[i],\n",
    "            \"dst_port\" : dst_port[i],\n",
    "            \"action\" : action[i],\n",
    "            \"src_country\" : src_country[i],\n",
    "            \"dst_country\" : dst_country[i],\n",
    "         })\n",
    "    \n"
   ]
  }
 ],
 "metadata": {
  "kernelspec": {
   "display_name": "Python 3",
   "language": "python",
   "name": "python3"
  },
  "language_info": {
   "codemirror_mode": {
    "name": "ipython",
    "version": 3
   },
   "file_extension": ".py",
   "mimetype": "text/x-python",
   "name": "python",
   "nbconvert_exporter": "python",
   "pygments_lexer": "ipython3",
   "version": "3.8.10"
  },
  "toc": {
   "base_numbering": 1,
   "nav_menu": {},
   "number_sections": false,
   "sideBar": true,
   "skip_h1_title": false,
   "title_cell": "Table of Contents",
   "title_sidebar": "Contents",
   "toc_cell": false,
   "toc_position": {},
   "toc_section_display": true,
   "toc_window_display": false
  }
 },
 "nbformat": 4,
 "nbformat_minor": 5
}
